{
 "cells": [
  {
   "cell_type": "code",
   "execution_count": 1,
   "id": "876365b4-6318-4115-af54-4e514948143d",
   "metadata": {},
   "outputs": [],
   "source": [
    "import pandas as pd\n",
    "import matplotlib.pyplot as py\n",
    "from matplotlib.backends.backend_pdf import PdfPages"
   ]
  },
  {
   "cell_type": "code",
   "execution_count": 2,
   "id": "8fa8adc4-4e4b-4e96-83ce-8d802e286f17",
   "metadata": {},
   "outputs": [
    {
     "name": "stdout",
     "output_type": "stream",
     "text": [
      "   EmpID      Name Department  Salary     City\n",
      "0    101    Hemant         HR   35000    Delhi\n",
      "1    102    Smriti         IT   45000   Mumbai\n",
      "2    103   Avinash         IT   42000    Delhi\n",
      "3    104     Kirti    Finance   40000  Lucknow\n",
      "4    105  Shashank         HR   37000   Mumbai\n",
      "5    106  Prashant    Finance   39000  Lucknow\n"
     ]
    }
   ],
   "source": [
    "data = {\n",
    "    'EmpID': [101, 102, 103, 104, 105, 106],\n",
    "    'Name': ['Hemant', 'Smriti', 'Avinash', 'Kirti', 'Shashank', 'Prashant'],\n",
    "    'Department': ['HR', 'IT', 'IT', 'Finance', 'HR', 'Finance'],\n",
    "    'Salary': [35000, 45000, 42000, 40000, 37000, 39000],\n",
    "    'City': ['Delhi', 'Mumbai', 'Delhi', 'Lucknow', 'Mumbai', 'Lucknow']\n",
    "}\n",
    "Employee=pd.DataFrame(data)\n",
    "print(Employee)"
   ]
  },
  {
   "cell_type": "code",
   "execution_count": 6,
   "id": "c6f252aa-2d4f-448a-948a-fa3bde62f7dc",
   "metadata": {},
   "outputs": [
    {
     "ename": "NameError",
     "evalue": "name 'plt' is not defined",
     "output_type": "error",
     "traceback": [
      "\u001b[31m---------------------------------------------------------------------------\u001b[39m",
      "\u001b[31mNameError\u001b[39m                                 Traceback (most recent call last)",
      "\u001b[36mCell\u001b[39m\u001b[36m \u001b[39m\u001b[32mIn[6]\u001b[39m\u001b[32m, line 3\u001b[39m\n\u001b[32m      1\u001b[39m pdf = PdfPages(\u001b[33m'\u001b[39m\u001b[33mEmployee_Report.pdf\u001b[39m\u001b[33m'\u001b[39m)\n\u001b[32m----> \u001b[39m\u001b[32m3\u001b[39m fig, ax = \u001b[43mplt\u001b[49m.subplots(figsize=(\u001b[32m11\u001b[39m, \u001b[32m3\u001b[39m))\n\u001b[32m      4\u001b[39m ax.axis(\u001b[33m'\u001b[39m\u001b[33mtight\u001b[39m\u001b[33m'\u001b[39m)\n\u001b[32m      5\u001b[39m ax.axis(\u001b[33m'\u001b[39m\u001b[33moff\u001b[39m\u001b[33m'\u001b[39m)\n",
      "\u001b[31mNameError\u001b[39m: name 'plt' is not defined"
     ]
    }
   ],
   "source": [
    "pdf = PdfPages('Employee_Report.pdf')\n",
    "\n",
    "fig, ax = plt.subplots(figsize=(11, 3))\n",
    "ax.axis('tight')\n",
    "ax.axis('off')\n",
    "\n",
    "# Add table\n",
    "table = ax.table(cellText=Employee.values,\n",
    "                 colLabels=Employee.columns,\n",
    "                 cellLoc='center',\n",
    "                 loc='center')\n",
    "\n",
    "table.auto_set_font_size(False)\n",
    "table.set_fontsize(10)\n",
    "table.scale(1, 1.5)\n",
    "\n",
    "pdf.savefig(fig)   # Save the figure to PDF\n",
    "pdf.close()        # Finalize and save the file\n",
    "\n",
    "print(\"✅ PDF generated: Employee_Report.pdf\")"
   ]
  },
  {
   "cell_type": "code",
   "execution_count": null,
   "id": "23fe2739-f888-4205-a761-882af4c99e3a",
   "metadata": {},
   "outputs": [],
   "source": []
  }
 ],
 "metadata": {
  "kernelspec": {
   "display_name": "Python 3 (ipykernel)",
   "language": "python",
   "name": "python3"
  },
  "language_info": {
   "codemirror_mode": {
    "name": "ipython",
    "version": 3
   },
   "file_extension": ".py",
   "mimetype": "text/x-python",
   "name": "python",
   "nbconvert_exporter": "python",
   "pygments_lexer": "ipython3",
   "version": "3.13.5"
  }
 },
 "nbformat": 4,
 "nbformat_minor": 5
}
