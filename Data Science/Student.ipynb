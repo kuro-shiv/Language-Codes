{
 "cells": [
  {
   "cell_type": "code",
   "execution_count": 1,
   "id": "63aae86d-e026-4f38-95fb-4f369a6717ea",
   "metadata": {},
   "outputs": [],
   "source": [
    "import pandas as pd\n"
   ]
  },
  {
   "cell_type": "code",
   "execution_count": 18,
   "id": "a487015c-c678-4519-901c-0c586bbe0b46",
   "metadata": {},
   "outputs": [
    {
     "name": "stdout",
     "output_type": "stream",
     "text": [
      "reading file\n",
      "   RollNo      Name  CS  Algorithm  Maths  C#\n",
      "0     101   Saurabh  85         78     90  88\n",
      "1     102    Smriti  92         80     85  86\n",
      "2     103       Raj  75         70     80  75\n",
      "3     104     Aditi  80         88     78  82\n",
      "4     105     Arnav  65         72     70  65\n",
      "5     106    Dinesh  90         85     88  91\n",
      "6     107    Manish  78         76     82  80\n",
      "7     108  Shraddha  88         84     90  87\n"
     ]
    }
   ],
   "source": [
    "print(\"reading file\")\n",
    "student_df = pd.read_csv(\"student_records.csv\")\n",
    "print(student_df)"
   ]
  },
  {
   "cell_type": "code",
   "execution_count": 20,
   "id": "4dcc1aec-7b7e-405c-8cfc-fe8017f34e04",
   "metadata": {},
   "outputs": [
    {
     "name": "stdout",
     "output_type": "stream",
     "text": [
      "   RollNo      Name  CS  Algorithm  Maths  C#  TotalMarks\n",
      "1     102    Smriti  92         80     85  86         300\n",
      "5     106    Dinesh  90         85     88  91         300\n",
      "7     108  Shraddha  88         84     90  87         300\n"
     ]
    }
   ],
   "source": [
    "print(student_df[student_df['CS']>85])"
   ]
  },
  {
   "cell_type": "code",
   "execution_count": 21,
   "id": "12a59f37-35e9-4ac9-95b3-67d9dfed5917",
   "metadata": {},
   "outputs": [
    {
     "name": "stdout",
     "output_type": "stream",
     "text": [
      "No of rows and cols \n",
      "(8, 7)\n"
     ]
    }
   ],
   "source": [
    "print(\"No of rows and cols \")\n",
    "print(student_df.shape)"
   ]
  },
  {
   "cell_type": "code",
   "execution_count": 25,
   "id": "bfe9b905-fa80-4cdc-b8f2-5d56b2cd2cf3",
   "metadata": {},
   "outputs": [
    {
     "name": "stdout",
     "output_type": "stream",
     "text": [
      "   RollNo      Name  CS  Algorithm  Maths  C#  TotalMarks\n",
      "0     101   Saurabh  85         78     90  88         300\n",
      "1     102    Smriti  92         80     85  86         300\n",
      "2     103       Raj  75         70     80  75         300\n",
      "3     104     Aditi  80         88     78  82         300\n",
      "4     105     Arnav  65         72     70  65         300\n",
      "5     106    Dinesh  90         85     88  91         300\n",
      "6     107    Manish  78         76     82  80         300\n",
      "7     108  Shraddha  88         84     90  87         300\n"
     ]
    }
   ],
   "source": [
    "student = pd.read_csv(\"student_records.csv\", usecols = ['RollNo','Name','Algorithm'])\n",
    "print(student_df)"
   ]
  },
  {
   "cell_type": "code",
   "execution_count": 26,
   "id": "3ebdf955-771e-4edc-a6f8-fac8b233a57a",
   "metadata": {},
   "outputs": [
    {
     "name": "stdout",
     "output_type": "stream",
     "text": [
      "   RollNo      Name  CS  Algorithm  Maths  C#  TotalMarks\n",
      "0     101   Saurabh  85         78     90  88         300\n",
      "1     102    Smriti  92         80     85  86         300\n",
      "2     103       Raj  75         70     80  75         300\n",
      "3     104     Aditi  80         88     78  82         300\n",
      "4     105     Arnav  65         72     70  65         300\n",
      "5     106    Dinesh  90         85     88  91         300\n",
      "6     107    Manish  78         76     82  80         300\n",
      "7     108  Shraddha  88         84     90  87         300\n"
     ]
    }
   ],
   "source": [
    "TotalMarks = 300, 300, 300, 300, 300, 300, 300, 300\n",
    "student_df[\"TotalMarks\"] = TotalMarks\n",
    "print(student_df)"
   ]
  },
  {
   "cell_type": "code",
   "execution_count": 32,
   "id": "ef4fc3f7-83e9-43e9-b454-26010714709d",
   "metadata": {},
   "outputs": [
    {
     "name": "stdout",
     "output_type": "stream",
     "text": [
      "   RollNo      Name  TotalMarks\n",
      "0     101   Saurabh         300\n",
      "1     102    Smriti         300\n",
      "2     103       Raj         300\n",
      "3     104     Aditi         300\n",
      "4     105     Arnav         300\n",
      "5     106    Dinesh         300\n",
      "6     107    Manish         300\n",
      "7     108  Shraddha         300\n"
     ]
    }
   ],
   "source": [
    "student = student_df[['RollNo', 'Name', 'TotalMarks']]\n",
    "print(student)\n"
   ]
  },
  {
   "cell_type": "code",
   "execution_count": 40,
   "id": "8ffb42da-fe46-44cb-8c40-80c1d59503eb",
   "metadata": {},
   "outputs": [
    {
     "name": "stdout",
     "output_type": "stream",
     "text": [
      "   RollNo      Name  CS  Algorithm  Maths  TotalMarks\n",
      "0     101   Saurabh  85         78     90         300\n",
      "1     102    Smriti  92         80     85         300\n",
      "2     103       Raj  75         70     80         300\n",
      "3     104     Aditi  80         88     78         300\n",
      "4     105     Arnav  65         72     70         300\n",
      "5     106    Dinesh  90         85     88         300\n",
      "6     107    Manish  78         76     82         300\n",
      "7     108  Shraddha  88         84     90         300\n"
     ]
    }
   ],
   "source": [
    "student_df = student_df.drop('C#', errors='ignore')\n",
    "print(student_df)"
   ]
  },
  {
   "cell_type": "code",
   "execution_count": 33,
   "id": "1cff097a-50eb-41b5-b9f5-c82d54604196",
   "metadata": {},
   "outputs": [
    {
     "name": "stdout",
     "output_type": "stream",
     "text": [
      "   RollNo      Name  CS  Algorithm  Maths  C#  TotalMarks\n",
      "0     101   Saurabh  85         78     90  88         300\n",
      "1     102    Smriti  92         80     85  86         300\n",
      "2     103       Raj  75         70     80  75         300\n",
      "3     104     Aditi  80         88     78  82         300\n",
      "4     105     Arnav  65         72     70  65         300\n",
      "5     106    Dinesh  90         85     88  91         300\n",
      "6     107    Manish  78         76     82  80         300\n",
      "7     108  Shraddha  88         84     90  87         300\n"
     ]
    }
   ],
   "source": [
    "student.loc[student['Name']=='Arnav',['CS']]=[70]\n",
    "print(student_df)"
   ]
  },
  {
   "cell_type": "code",
   "execution_count": 41,
   "id": "ea9c0a98-b561-49e4-a749-0c3a94664402",
   "metadata": {},
   "outputs": [],
   "source": [
    "student_df.to_csv('output_pandas.csv', index=False)"
   ]
  },
  {
   "cell_type": "code",
   "execution_count": null,
   "id": "e7bf8c81-c3c3-4c82-b3d2-35103766dd0f",
   "metadata": {},
   "outputs": [],
   "source": []
  }
 ],
 "metadata": {
  "kernelspec": {
   "display_name": "Python 3 (ipykernel)",
   "language": "python",
   "name": "python3"
  },
  "language_info": {
   "codemirror_mode": {
    "name": "ipython",
    "version": 3
   },
   "file_extension": ".py",
   "mimetype": "text/x-python",
   "name": "python",
   "nbconvert_exporter": "python",
   "pygments_lexer": "ipython3",
   "version": "3.13.5"
  }
 },
 "nbformat": 4,
 "nbformat_minor": 5
}
