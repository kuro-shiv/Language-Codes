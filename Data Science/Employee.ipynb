{
 "cells": [
  {
   "cell_type": "code",
   "execution_count": 1,
   "id": "f80f465e-40cc-4da7-b14a-20540f0abadb",
   "metadata": {},
   "outputs": [],
   "source": [
    "import pandas as pd"
   ]
  },
  {
   "cell_type": "code",
   "execution_count": 2,
   "id": "27d43dad-966c-409b-9358-753981f0d13c",
   "metadata": {},
   "outputs": [
    {
     "name": "stdout",
     "output_type": "stream",
     "text": [
      "   EmpId   EmpName  Age     City Country\n",
      "0    101   Saurabh   28  Lucknow   India\n",
      "1    102    Smriti   25    Delhi   India\n",
      "2    103       Raj   30   Mumbai   India\n",
      "3    104     Aditi   27     Pune   India\n",
      "4    105     Arnav   19    Delhi   India\n",
      "5    106    Dinesh   48   Mumbai   India\n",
      "6    107    Manish   27    Delhi   India\n",
      "7    108  Shraddha   38  Lucknow   India\n",
      "8    108    Nishka   12    Noida   India\n"
     ]
    }
   ],
   "source": [
    "employee_df = pd.read_csv(\"Employee.csv\")\n",
    "print(employee_df)"
   ]
  },
  {
   "cell_type": "code",
   "execution_count": 3,
   "id": "acc121ec-76ec-4567-93ec-2dc245d21f73",
   "metadata": {},
   "outputs": [
    {
     "name": "stdout",
     "output_type": "stream",
     "text": [
      "No of rows and cols \n",
      "(9, 5)\n"
     ]
    }
   ],
   "source": [
    "print(\"No of rows and cols \")\n",
    "print(employee_df.shape)"
   ]
  },
  {
   "cell_type": "code",
   "execution_count": 4,
   "id": "013c63f5-1302-4ca9-bbc9-b0dd34b07504",
   "metadata": {},
   "outputs": [
    {
     "name": "stdout",
     "output_type": "stream",
     "text": [
      "    EmpName  Age     City\n",
      "0   Saurabh   28  Lucknow\n",
      "1    Smriti   25    Delhi\n",
      "2       Raj   30   Mumbai\n",
      "3     Aditi   27     Pune\n",
      "4     Arnav   19    Delhi\n",
      "5    Dinesh   48   Mumbai\n",
      "6    Manish   27    Delhi\n",
      "7  Shraddha   38  Lucknow\n",
      "8    Nishka   12    Noida\n"
     ]
    }
   ],
   "source": [
    "employee_df = pd.read_csv(\"Employee.csv\", usecols = ['EmpName','Age','City'])\n",
    "print(employee_df)"
   ]
  },
  {
   "cell_type": "code",
   "execution_count": 6,
   "id": "b5d7d610-2253-4603-bcc6-313f61f0b303",
   "metadata": {},
   "outputs": [
    {
     "name": "stdout",
     "output_type": "stream",
     "text": [
      "EmpName       Raj\n",
      "Age            30\n",
      "City       Mumbai\n",
      "Name: 2, dtype: object\n"
     ]
    }
   ],
   "source": [
    "print(employee_df.loc[2])"
   ]
  },
  {
   "cell_type": "code",
   "execution_count": 7,
   "id": "a282cbc8-b19f-432a-918c-2de917600c11",
   "metadata": {},
   "outputs": [
    {
     "name": "stdout",
     "output_type": "stream",
     "text": [
      "    EmpName  Age     City\n",
      "0   Saurabh   28  Lucknow\n",
      "2       Raj   30   Mumbai\n",
      "3     Aditi   27     Pune\n",
      "5    Dinesh   48   Mumbai\n",
      "6    Manish   27    Delhi\n",
      "7  Shraddha   38  Lucknow\n"
     ]
    }
   ],
   "source": [
    "print(employee_df[employee_df['Age']>26])"
   ]
  },
  {
   "cell_type": "code",
   "execution_count": null,
   "id": "4577addf-9816-4432-ac11-56b0c1a9ec05",
   "metadata": {},
   "outputs": [],
   "source": [
    "employee_df[\"Department\"]"
   ]
  },
  {
   "cell_type": "code",
   "execution_count": null,
   "id": "b242333d-dd32-4522-992c-874457329040",
   "metadata": {},
   "outputs": [],
   "source": []
  },
  {
   "cell_type": "code",
   "execution_count": null,
   "id": "82eb2378-4e48-41d3-a60d-e8b97f93592d",
   "metadata": {},
   "outputs": [],
   "source": []
  },
  {
   "cell_type": "code",
   "execution_count": null,
   "id": "df2a762d-e3b7-433b-bb3c-cd4bca53de74",
   "metadata": {},
   "outputs": [],
   "source": []
  },
  {
   "cell_type": "code",
   "execution_count": null,
   "id": "366ba4ab-7b0c-4eba-988e-9a44acf21c6e",
   "metadata": {},
   "outputs": [],
   "source": []
  },
  {
   "cell_type": "code",
   "execution_count": null,
   "id": "08265a9e-9d3c-43f4-be9e-36a06380c6f9",
   "metadata": {},
   "outputs": [],
   "source": []
  },
  {
   "cell_type": "code",
   "execution_count": null,
   "id": "14d504aa-b048-48b5-bb9f-308ccf86b299",
   "metadata": {},
   "outputs": [],
   "source": []
  },
  {
   "cell_type": "code",
   "execution_count": null,
   "id": "3e5c2077-ec44-4a30-b392-31cc6710e663",
   "metadata": {},
   "outputs": [],
   "source": []
  },
  {
   "cell_type": "code",
   "execution_count": null,
   "id": "7a1a9d64-5707-4749-a9a2-8f6aeb3cb561",
   "metadata": {},
   "outputs": [],
   "source": []
  },
  {
   "cell_type": "code",
   "execution_count": null,
   "id": "bee23599-1cd5-4fe6-944a-31b1fbf0603a",
   "metadata": {},
   "outputs": [],
   "source": []
  },
  {
   "cell_type": "code",
   "execution_count": null,
   "id": "4c97f069-2b80-447f-b0f7-851c784b623c",
   "metadata": {},
   "outputs": [],
   "source": []
  },
  {
   "cell_type": "code",
   "execution_count": null,
   "id": "a93e5b38-7fc5-4358-925e-d765e5c3e18e",
   "metadata": {},
   "outputs": [],
   "source": []
  },
  {
   "cell_type": "code",
   "execution_count": null,
   "id": "fa693325-9e81-4b85-834e-fe98b2875793",
   "metadata": {},
   "outputs": [],
   "source": []
  },
  {
   "cell_type": "code",
   "execution_count": null,
   "id": "7567ed8c-4c37-4660-863e-d1b083933c42",
   "metadata": {},
   "outputs": [],
   "source": []
  },
  {
   "cell_type": "code",
   "execution_count": null,
   "id": "503eae53-4529-4e3e-9833-0c96b30afa08",
   "metadata": {},
   "outputs": [],
   "source": []
  },
  {
   "cell_type": "code",
   "execution_count": null,
   "id": "8a8235b6-1382-4904-bf98-c5479547edfa",
   "metadata": {},
   "outputs": [],
   "source": []
  }
 ],
 "metadata": {
  "kernelspec": {
   "display_name": "Python 3 (ipykernel)",
   "language": "python",
   "name": "python3"
  },
  "language_info": {
   "codemirror_mode": {
    "name": "ipython",
    "version": 3
   },
   "file_extension": ".py",
   "mimetype": "text/x-python",
   "name": "python",
   "nbconvert_exporter": "python",
   "pygments_lexer": "ipython3",
   "version": "3.13.5"
  }
 },
 "nbformat": 4,
 "nbformat_minor": 5
}
