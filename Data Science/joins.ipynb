{
 "cells": [
  {
   "cell_type": "code",
   "execution_count": 10,
   "id": "c8bb9340-6189-454d-b628-74abf3cf0c19",
   "metadata": {},
   "outputs": [],
   "source": [
    "import pandas as pd\n",
    "import numpy as np"
   ]
  },
  {
   "cell_type": "code",
   "execution_count": 11,
   "id": "28d24293-cc9a-4126-8caf-a0ff4f214f47",
   "metadata": {},
   "outputs": [
    {
     "name": "stdout",
     "output_type": "stream",
     "text": [
      "   EmpID      Name  Age DeptID  Salary\n",
      "0    101    Smriti   25   D001   55000\n",
      "1    102     Ankur   28   D002   60000\n",
      "2    103      Neha   30   D001   58000\n",
      "3    104  Shashank   26   D003   52000\n",
      "4    105     Priya   32   D004   65000\n",
      "  DeptID DepartmentName   Location\n",
      "0   D001             HR      Delhi\n",
      "1   D002             IT  Bangalore\n",
      "2   D003        Finance     Mumbai\n",
      "3   D005      Marketing  Hyderabad\n"
     ]
    }
   ],
   "source": [
    "emp_df = pd.read_csv('Employee1.csv')\n",
    "dept_df = pd.read_csv('Department2.csv')\n",
    "\n",
    "# Preview\n",
    "print(emp_df.head())\n",
    "print(dept_df.head())"
   ]
  },
  {
   "cell_type": "code",
   "execution_count": 12,
   "id": "da115068-e1d6-4501-90f2-c68dc82e79d3",
   "metadata": {},
   "outputs": [
    {
     "name": "stdout",
     "output_type": "stream",
     "text": [
      "NumPy Salaries Array: [55000 60000 58000 52000 65000 61000]\n",
      "Total Salary (np.sum): 351000\n",
      "Average Salary (np.mean): 58500.0\n",
      "Max Salary (np.max): 65000\n",
      "Min Salary (np.min): 52000\n"
     ]
    }
   ],
   "source": [
    "# Convert salary column to NumPy array\n",
    "salaries = emp_df['Salary'].values\n",
    "print(\"NumPy Salaries Array:\", salaries)\n",
    "\n",
    "# Use numpy to calculate stats\n",
    "print(\"Total Salary (np.sum):\", np.sum(salaries))\n",
    "print(\"Average Salary (np.mean):\", np.mean(salaries))\n",
    "print(\"Max Salary (np.max):\", np.max(salaries))\n",
    "print(\"Min Salary (np.min):\", np.min(salaries))\n"
   ]
  },
  {
   "cell_type": "code",
   "execution_count": 13,
   "id": "f9d6942e-8aa1-4a2e-8451-c2984078fe52",
   "metadata": {},
   "outputs": [
    {
     "name": "stdout",
     "output_type": "stream",
     "text": [
      "   EmpID      Name  Age DeptID  Salary DepartmentName   Location\n",
      "0    101    Smriti   25   D001   55000             HR      Delhi\n",
      "1    102     Ankur   28   D002   60000             IT  Bangalore\n",
      "2    103      Neha   30   D001   58000             HR      Delhi\n",
      "3    104  Shashank   26   D003   52000        Finance     Mumbai\n",
      "4    106     Ronit   29   D002   61000             IT  Bangalore\n"
     ]
    }
   ],
   "source": [
    "# Inner join\n",
    "merged_inner_df = pd.merge(emp_df, dept_df, on='DeptID', how='inner')\n",
    "print(merged_df.head())\n"
   ]
  },
  {
   "cell_type": "code",
   "execution_count": 27,
   "id": "dd780cb9-c4d4-4df9-a0f9-68eb76e5a572",
   "metadata": {},
   "outputs": [
    {
     "name": "stdout",
     "output_type": "stream",
     "text": [
      "Employees with Salary > 25000:\n",
      "   EmpID      Name  Age DeptID  Salary DepartmentName   Location\n",
      "0    101    Smriti   25   D001   55000             HR      Delhi\n",
      "1    102     Ankur   28   D002   60000             IT  Bangalore\n",
      "2    103      Neha   30   D001   58000             HR      Delhi\n",
      "3    104  Shashank   26   D003   52000        Finance     Mumbai\n",
      "4    106     Ronit   29   D002   61000             IT  Bangalore\n"
     ]
    }
   ],
   "source": [
    "# Get employees with salary > 25000 using NumPy mask\n",
    "high_salary_mask = merged_df['Salary'].values > 25000\n",
    "high_salary_emps = merged_df[high_salary_mask]\n",
    "\n",
    "print(\"Employees with Salary > 25000:\")\n",
    "print(high_salary_emps)\n"
   ]
  },
  {
   "cell_type": "code",
   "execution_count": 28,
   "id": "a0789e35-cdb6-4b3a-b0e7-89a78fd818e0",
   "metadata": {},
   "outputs": [
    {
     "name": "stdout",
     "output_type": "stream",
     "text": [
      "   EmpID      Name  Age DeptID  Salary DepartmentName   Location\n",
      "0    101    Smriti   25   D001   55000             HR      Delhi\n",
      "1    102     Ankur   28   D002   60000             IT  Bangalore\n",
      "2    103      Neha   30   D001   58000             HR      Delhi\n",
      "3    104  Shashank   26   D003   52000        Finance     Mumbai\n",
      "4    106     Ronit   29   D002   61000             IT  Bangalore\n"
     ]
    }
   ],
   "source": [
    "#left join\n",
    "merged_left_df = pd.merge(emp_df, dept_df, on='DeptID', how='left')\n",
    "print(merged_df.head())"
   ]
  },
  {
   "cell_type": "code",
   "execution_count": 29,
   "id": "d3b39687-d6e5-4b6a-b016-681016085061",
   "metadata": {},
   "outputs": [
    {
     "name": "stdout",
     "output_type": "stream",
     "text": [
      "   EmpID      Name  Age DeptID  Salary DepartmentName   Location\n",
      "0    101    Smriti   25   D001   55000             HR      Delhi\n",
      "1    102     Ankur   28   D002   60000             IT  Bangalore\n",
      "2    103      Neha   30   D001   58000             HR      Delhi\n",
      "3    104  Shashank   26   D003   52000        Finance     Mumbai\n",
      "4    106     Ronit   29   D002   61000             IT  Bangalore\n"
     ]
    }
   ],
   "source": [
    "#left join\n",
    "merged_outer_df = pd.merge(emp_df, dept_df, on='DeptID', how='outer')\n",
    "print(merged_df.head())"
   ]
  },
  {
   "cell_type": "code",
   "execution_count": 30,
   "id": "d3a3678b-d763-4ecc-a580-1b8963634f9e",
   "metadata": {},
   "outputs": [
    {
     "name": "stdout",
     "output_type": "stream",
     "text": [
      "   EmpID      Name  Age DeptID  Salary DepartmentName   Location\n",
      "0    101    Smriti   25   D001   55000             HR      Delhi\n",
      "1    102     Ankur   28   D002   60000             IT  Bangalore\n",
      "2    103      Neha   30   D001   58000             HR      Delhi\n",
      "3    104  Shashank   26   D003   52000        Finance     Mumbai\n",
      "4    106     Ronit   29   D002   61000             IT  Bangalore\n"
     ]
    }
   ],
   "source": [
    "#left join\n",
    "merged_right_df = pd.merge(emp_df, dept_df, on='DeptID', how='right')\n",
    "print(merged_df.head())"
   ]
  },
  {
   "cell_type": "code",
   "execution_count": 33,
   "id": "87bf7142-0ef8-4d5e-a340-389dd3a6a675",
   "metadata": {},
   "outputs": [
    {
     "name": "stdout",
     "output_type": "stream",
     "text": [
      "   EmpID      Name  Age DeptID  Salary\n",
      "4    105     Priya   32   D004   65000\n",
      "5    106     Ronit   29   D002   61000\n",
      "1    102     Ankur   28   D002   60000\n",
      "2    103      Neha   30   D001   58000\n",
      "0    101    Smriti   25   D001   55000\n",
      "3    104  Shashank   26   D003   52000\n"
     ]
    }
   ],
   "source": [
    "dsc_sorted_emp = emp_df.sort_values(by='Salary', ascending=False)\n",
    "print (sorted_emp)"
   ]
  },
  {
   "cell_type": "code",
   "execution_count": 38,
   "id": "7a6b6ea3-3a39-4b28-b680-02251455fcb7",
   "metadata": {},
   "outputs": [
    {
     "name": "stdout",
     "output_type": "stream",
     "text": [
      "Department-wise Total Salary:\n",
      " DepartmentName\n",
      "Finance     52000\n",
      "HR         113000\n",
      "IT         121000\n",
      "Name: Salary, dtype: int64\n"
     ]
    }
   ],
   "source": [
    "\n",
    "merged_df = pd.merge(emp_df, dept_df, on='DeptID', how='inner')\n",
    "dept_salary_sum = merged_df.groupby('DepartmentName')['Salary'].sum()\n",
    "\n",
    "print(\"Department-wise Total Salary:\\n\", dept_salary_sum)\n"
   ]
  },
  {
   "cell_type": "code",
   "execution_count": 44,
   "id": "1aba29ac-13d7-429d-8f41-450538b5ac55",
   "metadata": {},
   "outputs": [
    {
     "name": "stdout",
     "output_type": "stream",
     "text": [
      "Location-wise Total Salary and avg:\n",
      "     Location     sum     mean\n",
      "0  Bangalore  121000  60500.0\n",
      "1      Delhi  113000  56500.0\n",
      "2     Mumbai   52000  52000.0\n",
      "------------------------------------------------------------------------------------------------------------\n"
     ]
    }
   ],
   "source": [
    "merged_df = pd.merge(emp_df, dept_df, on='DeptID', how='inner')\n",
    "loc_salary_sum_mean = merged_df.groupby('Location')['Salary'].agg(['sum','mean']).reset_index()\n",
    "print(\"Location-wise Total Salary and avg:\\n\", loc_salary_sum_mean)\n",
    "\n",
    "print(\"------------------------------------------------------------------------------------------------------------\")"
   ]
  },
  {
   "cell_type": "code",
   "execution_count": null,
   "id": "8fab3d9c-d9e9-415e-b9c4-381c94555b80",
   "metadata": {},
   "outputs": [],
   "source": []
  }
 ],
 "metadata": {
  "kernelspec": {
   "display_name": "Python 3 (ipykernel)",
   "language": "python",
   "name": "python3"
  },
  "language_info": {
   "codemirror_mode": {
    "name": "ipython",
    "version": 3
   },
   "file_extension": ".py",
   "mimetype": "text/x-python",
   "name": "python",
   "nbconvert_exporter": "python",
   "pygments_lexer": "ipython3",
   "version": "3.13.5"
  }
 },
 "nbformat": 4,
 "nbformat_minor": 5
}
