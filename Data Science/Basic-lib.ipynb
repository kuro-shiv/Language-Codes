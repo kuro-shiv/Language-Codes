{
 "cells": [
  {
   "cell_type": "code",
   "execution_count": 1,
   "id": "0a8ee015-7da9-4f34-88fd-672dca293ebd",
   "metadata": {},
   "outputs": [],
   "source": [
    "import pandas as pd\n",
    "import numpy as np"
   ]
  },
  {
   "cell_type": "code",
   "execution_count": 2,
   "id": "700b3709-d990-4116-a013-5aad111c81f4",
   "metadata": {},
   "outputs": [
    {
     "name": "stdout",
     "output_type": "stream",
     "text": [
      "2.3.0\n",
      "2.3.1\n"
     ]
    }
   ],
   "source": [
    "print(pd.__version__)\n",
    "print(np.__version__)"
   ]
  },
  {
   "cell_type": "code",
   "execution_count": 3,
   "id": "9efc307a-e470-471c-8c4f-dcae1b149b2e",
   "metadata": {},
   "outputs": [
    {
     "name": "stdout",
     "output_type": "stream",
     "text": [
      "0    10\n",
      "1    20\n",
      "2    30\n",
      "3    40\n",
      "dtype: int64\n"
     ]
    }
   ],
   "source": [
    "series1=pd.Series([10,20,30,40])\n",
    "print(series1)"
   ]
  },
  {
   "cell_type": "code",
   "execution_count": 4,
   "id": "031bfc86-359a-435f-b756-ce28abfe0d75",
   "metadata": {},
   "outputs": [
    {
     "name": "stdout",
     "output_type": "stream",
     "text": [
      "Series([], dtype: object)\n"
     ]
    }
   ],
   "source": [
    "s1=pd.Series()\n",
    "s1\n",
    "print(s1)"
   ]
  },
  {
   "cell_type": "code",
   "execution_count": 5,
   "id": "86126252-3aa1-468a-9e63-0187c8165f94",
   "metadata": {},
   "outputs": [
    {
     "name": "stdout",
     "output_type": "stream",
     "text": [
      "Series of months and number of days:  Jan    31\n",
      "Feb    28\n",
      "Mar    31\n",
      "Apr    30\n",
      "May    31\n",
      "Jun    30\n",
      "Jul    31\n",
      "Aug    31\n",
      "Sep    30\n",
      "Oct    31\n",
      "Nov    30\n",
      "Dec    31\n",
      "dtype: int64\n"
     ]
    }
   ],
   "source": [
    "months=['Jan', 'Feb', 'Mar', 'Apr', 'May', 'Jun', 'Jul', 'Aug', 'Sep', 'Oct', 'Nov', 'Dec']\n",
    "noofdays=[31, 28, 31, 30, 31, 30, 31, 31, 30, 31, 30, 31]\n",
    "series=pd.Series(noofdays, index=months)\n",
    "print(\"Series of months and number of days: \",series)"
   ]
  },
  {
   "cell_type": "code",
   "execution_count": 6,
   "id": "a3948189-7cb3-464c-94ac-57e71c3e1262",
   "metadata": {},
   "outputs": [
    {
     "name": "stdout",
     "output_type": "stream",
     "text": [
      "0    0\n",
      "1    1\n",
      "2    2\n",
      "3    3\n",
      "4    4\n",
      "dtype: int64\n"
     ]
    }
   ],
   "source": [
    "series1=pd.Series(range (5))\n",
    "print(series1)"
   ]
  },
  {
   "cell_type": "code",
   "execution_count": 7,
   "id": "4f481056-ed61-45c1-b421-03a518626d7a",
   "metadata": {},
   "outputs": [
    {
     "name": "stdout",
     "output_type": "stream",
     "text": [
      "a     1\n",
      "b     4\n",
      "c     7\n",
      "d    10\n",
      "e    13\n",
      "dtype: int64\n"
     ]
    }
   ],
   "source": [
    "series=pd.Series(range(1,15,3),index =[x for x in 'abcde'])\n",
    "print(series)"
   ]
  },
  {
   "cell_type": "code",
   "execution_count": 8,
   "id": "cfdb2b88-c959-4b45-b868-fb1997bec2a6",
   "metadata": {},
   "outputs": [
    {
     "name": "stdout",
     "output_type": "stream",
     "text": [
      "0    2.0\n",
      "1    4.0\n",
      "2    6.0\n",
      "3    8.0\n",
      "4    9.5\n",
      "dtype: float64\n"
     ]
    }
   ],
   "source": [
    "series = pd.Series([2,4,6,8,9.5])\n",
    "print(series)"
   ]
  },
  {
   "cell_type": "code",
   "execution_count": 9,
   "id": "d314806c-9b4f-4c9b-b86c-133d9e6abb59",
   "metadata": {},
   "outputs": [
    {
     "name": "stdout",
     "output_type": "stream",
     "text": [
      "0     7.0\n",
      "1     5.4\n",
      "2     NaN\n",
      "3   -35.5\n",
      "dtype: float64\n"
     ]
    }
   ],
   "source": [
    "subj=pd.Series([7.,5.4,np.nan,-35.5])\n",
    "print(subj)"
   ]
  },
  {
   "cell_type": "code",
   "execution_count": 10,
   "id": "43d1549e-c5c8-4d02-88bc-e37bb2b15859",
   "metadata": {},
   "outputs": [
    {
     "name": "stdout",
     "output_type": "stream",
     "text": [
      "HR         50000\n",
      "Finance    50000\n",
      "IT         50000\n",
      "Civil      50000\n",
      "EC         50000\n",
      "dtype: int64\n"
     ]
    }
   ],
   "source": [
    "departments = ['HR','Finance','IT','Civil','EC']\n",
    "default_salary = 50000\n",
    "salary_series = pd.Series(default_salary, index = departments)\n",
    "print(salary_series)"
   ]
  },
  {
   "cell_type": "code",
   "execution_count": 11,
   "id": "c0fdf306-b102-4f53-af17-407c53e840e2",
   "metadata": {},
   "outputs": [
    {
     "name": "stdout",
     "output_type": "stream",
     "text": [
      "order_101    Pending\n",
      "order_102    Pending\n",
      "order_103    Pending\n",
      "dtype: object\n"
     ]
    }
   ],
   "source": [
    "orders= [\"order_101\",\"order_102\",\"order_103\"]\n",
    "status_series=pd.Series(\"Pending\", index=orders)\n",
    "print(status_series)"
   ]
  },
  {
   "cell_type": "code",
   "execution_count": 12,
   "id": "a7315a64-b777-4c21-8027-1a54e1db4a3d",
   "metadata": {},
   "outputs": [
    {
     "name": "stdout",
     "output_type": "stream",
     "text": [
      "EMP_101    Active\n",
      "EMP_102    Active\n",
      "EMP_103    Active\n",
      "dtype: object\n"
     ]
    }
   ],
   "source": [
    "employees=[\"EMP_101\",\"EMP_102\",\"EMP_103\"]\n",
    "status_series=pd.Series(\"Active\", index=employees)\n",
    "print(status_series)"
   ]
  },
  {
   "cell_type": "code",
   "execution_count": 13,
   "id": "6393f454-335c-4fc7-8a94-0e2fa8474fc6",
   "metadata": {},
   "outputs": [
    {
     "name": "stdout",
     "output_type": "stream",
     "text": [
      "PPD001    2499\n",
      "PPD002    3999\n",
      "PPD003    1099\n",
      "PPD004     999\n",
      "dtype: int64\n"
     ]
    }
   ],
   "source": [
    "product_prices=pd.Series([2499,3999,1099,999], index=[\"PPD001\",\"PPD002\",\"PPD003\",\"PPD004\"])\n",
    "print(product_prices)\n"
   ]
  },
  {
   "cell_type": "code",
   "execution_count": 14,
   "id": "2f403bbd-e42f-418e-964e-61c16a4ae3e8",
   "metadata": {},
   "outputs": [
    {
     "name": "stdout",
     "output_type": "stream",
     "text": [
      "Laptop    50000\n",
      "Phone     15000\n",
      "Tablet    10000\n",
      "dtype: int64\n"
     ]
    }
   ],
   "source": [
    "product_prices ={'Laptop': 50000,'Phone': 15000, 'Tablet': 10000}\n",
    "\n",
    "price_series = pd.Series (product_prices)\n",
    "print (price_series)"
   ]
  },
  {
   "cell_type": "code",
   "execution_count": 15,
   "id": "55450b08-b9ca-46df-8a1f-db5be7ab1e54",
   "metadata": {},
   "outputs": [
    {
     "name": "stdout",
     "output_type": "stream",
     "text": [
      "===================student marks=======================\n",
      "Ankit      85\n",
      "Shreya     90\n",
      "Bhawana    95\n",
      "dtype: int64\n",
      "===================student marks=======================\n",
      "\n",
      "\n",
      "===================employee_roles=======================\n",
      "E01    Manager\n",
      "E02       Head\n",
      "E03       Engg\n",
      "dtype: object\n",
      "===================employee_roles=======================\n"
     ]
    }
   ],
   "source": [
    "student_marks = { 'Ankit' : 85 , 'Shreya' : 90, 'Bhawana' : 95 }\n",
    "print(\"===================student marks=======================\")\n",
    "marks_series = pd.Series(student_marks)\n",
    "print(marks_series)\n",
    "print(\"===================student marks=======================\")\n",
    "print(\"\\n\")\n",
    "print(\"===================employee_roles=======================\")\n",
    "\n",
    "employee_roles ={'E01' : 'Manager', 'E02' : 'Head', 'E03' : 'Engg'}\n",
    "employee = pd.Series(employee_roles)\n",
    "print(employee)\n",
    "print(\"===================employee_roles=======================\")"
   ]
  },
  {
   "cell_type": "code",
   "execution_count": 16,
   "id": "cb46cb04-e0a8-4e95-9196-25498fd4e1a2",
   "metadata": {},
   "outputs": [
    {
     "name": "stdout",
     "output_type": "stream",
     "text": [
      "Laptop  Price    50000\n",
      "        Stock       25\n",
      "Phone   Price    20000\n",
      "        Stock       50\n",
      "Tablet  Price    10000\n",
      "        Stock       30\n",
      "dtype: int64\n"
     ]
    }
   ],
   "source": [
    "nested_data = {\n",
    "    'Laptop': {'Price':50000,'Stock':25},\n",
    "    'Phone': {'Price': 20000, 'Stock': 50},\n",
    "    'Tablet': {'Price':10000, 'Stock': 30}\n",
    "}\n",
    "\n",
    "multi_series = pd.Series(nested_data).apply(pd.Series).stack()\n",
    "print(multi_series)\n"
   ]
  },
  {
   "cell_type": "code",
   "execution_count": 17,
   "id": "7c3e5251-dfe4-4a9a-bba0-506356568df6",
   "metadata": {},
   "outputs": [
    {
     "name": "stdout",
     "output_type": "stream",
     "text": [
      "==============================================square of 1 to 5===========================================\n",
      "0     1\n",
      "1     4\n",
      "2     9\n",
      "3    16\n",
      "4    25\n",
      "dtype: int64\n",
      "==============================================cube of 1 to 5===========================================\n",
      "0      1\n",
      "1      8\n",
      "2     27\n",
      "3     64\n",
      "4    125\n",
      "dtype: int64\n"
     ]
    }
   ],
   "source": [
    "numbers= [1,2,3,4,5]\n",
    "squares = pd .Series (map(lambda x : x**2, numbers))\n",
    "print (\"==============================================square of 1 to 5===========================================\")\n",
    "print(squares)\n",
    "cube = pd.Series (map(lambda x : x**3, numbers))\n",
    "print (\"==============================================cube of 1 to 5===========================================\")\n",
    "print(cube)"
   ]
  },
  {
   "cell_type": "code",
   "execution_count": 18,
   "id": "fe43fbed-9cd4-48b8-aa65-2d068c6022d6",
   "metadata": {},
   "outputs": [
    {
     "name": "stdout",
     "output_type": "stream",
     "text": [
      "10    0.173648\n",
      "20    0.342020\n",
      "30    0.500000\n",
      "40    0.642788\n",
      "50    0.766044\n",
      "dtype: float64\n"
     ]
    }
   ],
   "source": [
    "angles = [10,20,30,40,50]\n",
    "sine_values = pd.Series(np.sin(np.radians(angles)), index = angles)\n",
    "print (sine_values)"
   ]
  },
  {
   "cell_type": "code",
   "execution_count": 19,
   "id": "bf19b32d-8038-49b8-a781-7f70cc54b0d0",
   "metadata": {},
   "outputs": [
    {
     "name": "stdout",
     "output_type": "stream",
     "text": [
      "0    1.414214\n",
      "1    1.732051\n",
      "2    2.000000\n",
      "3    2.236068\n",
      "4    2.449490\n",
      "5    2.645751\n",
      "6    2.828427\n",
      "7    3.000000\n",
      "dtype: float64\n"
     ]
    }
   ],
   "source": [
    "sqt = pd.Series(np.sqrt([2,3,4,5,6,7,8,9]))\n",
    "print(sqt)"
   ]
  },
  {
   "cell_type": "code",
   "execution_count": 20,
   "id": "16f7f4b6-de1b-47fc-8b4d-7f471d63c0da",
   "metadata": {},
   "outputs": [
    {
     "name": "stdout",
     "output_type": "stream",
     "text": [
      "0       7.389056\n",
      "1      20.085537\n",
      "2      54.598150\n",
      "3     148.413159\n",
      "4     403.428793\n",
      "5    1096.633158\n",
      "6    2980.957987\n",
      "7    8103.083928\n",
      "dtype: float64\n"
     ]
    }
   ],
   "source": [
    "exponents = pd.Series(np.exp([2,3,4,5,6,7,8,9]))\n",
    "print(exponents)"
   ]
  },
  {
   "cell_type": "code",
   "execution_count": 21,
   "id": "820353be-ee50-463f-a4be-12d2185d3da6",
   "metadata": {},
   "outputs": [
    {
     "name": "stdout",
     "output_type": "stream",
     "text": [
      "0    10\n",
      "1    20\n",
      "2    30\n",
      "3    40\n",
      "4    50\n",
      "dtype: int64\n"
     ]
    }
   ],
   "source": [
    "arr=np.array([10,20,30,40,50])\n",
    "series=pd.Series(arr)\n",
    "print(series)"
   ]
  },
  {
   "cell_type": "code",
   "execution_count": 22,
   "id": "d478c5ae-9d96-4cfa-ad5e-81f60963c43f",
   "metadata": {},
   "outputs": [
    {
     "name": "stdout",
     "output_type": "stream",
     "text": [
      "Smriti      85\n",
      "Hemant      90\n",
      "Avinash     75\n",
      "Shashank    60\n",
      "dtype: int64\n"
     ]
    }
   ],
   "source": [
    "arr=np.array([85,90,75,60])\n",
    "students=['Smriti','Hemant','Avinash','Shashank']\n",
    "marks_series=pd.Series(arr, index=students)\n",
    "print(marks_series)"
   ]
  },
  {
   "cell_type": "code",
   "execution_count": 23,
   "id": "a08af067-01fe-438f-aa1b-92c9041929ad",
   "metadata": {},
   "outputs": [
    {
     "name": "stdout",
     "output_type": "stream",
     "text": [
      "0    0.00\n",
      "1    0.25\n",
      "2    0.50\n",
      "3    0.75\n",
      "4    1.00\n",
      "dtype: float64\n"
     ]
    }
   ],
   "source": [
    "arr=np.linspace(0,1,5)\n",
    "lin_series=pd.Series(arr)\n",
    "print(lin_series)"
   ]
  },
  {
   "cell_type": "code",
   "execution_count": 24,
   "id": "02a4d8fc-bd44-45c0-ad6a-4494a7aa6743",
   "metadata": {},
   "outputs": [
    {
     "name": "stdout",
     "output_type": "stream",
     "text": [
      "85      Smriti\n",
      "67    Shashank\n",
      "90      Hemant\n",
      "89     Avinash\n",
      "75      Shivam\n",
      "dtype: object\n"
     ]
    }
   ],
   "source": [
    "names=['Smriti','Shashank','Hemant','Avinash','Shivam']\n",
    "marks=[85,67,90,89,75]\n",
    "students_df=pd.Series(names,marks)\n",
    "print(students_df)"
   ]
  },
  {
   "cell_type": "code",
   "execution_count": 25,
   "id": "6aa37ddb-6ca9-4f79-b8dc-a8c91458baa6",
   "metadata": {},
   "outputs": [
    {
     "name": "stdout",
     "output_type": "stream",
     "text": [
      "85     Smriti\n",
      "90     Hemant\n",
      "89    Avinash\n",
      "dtype: object\n"
     ]
    }
   ],
   "source": [
    "high_scorers=students_df[students_df.index>80]\n",
    "print(high_scorers)"
   ]
  },
  {
   "cell_type": "code",
   "execution_count": 26,
   "id": "1c7c356e-2883-4d96-9329-838fd781b6a9",
   "metadata": {},
   "outputs": [
    {
     "name": "stdout",
     "output_type": "stream",
     "text": [
      "90      Smriti\n",
      "72    Shashank\n",
      "95      Hemant\n",
      "94     Avinash\n",
      "80      Shivam\n",
      "dtype: object\n"
     ]
    }
   ],
   "source": [
    "students_df.index=students_df.index+5\n",
    "print(students_df)"
   ]
  },
  {
   "cell_type": "code",
   "execution_count": 27,
   "id": "7d5e3fa2-3af6-49af-8745-f9ec93eaaedf",
   "metadata": {},
   "outputs": [
    {
     "name": "stdout",
     "output_type": "stream",
     "text": [
      "85      Smriti\n",
      "67    Shashank\n",
      "90      Hemant\n",
      "89     Avinash\n",
      "75      Shivam\n",
      "dtype: object\n"
     ]
    }
   ],
   "source": [
    "students_df.index=students_df.index-5\n",
    "print(students_df)"
   ]
  },
  {
   "cell_type": "code",
   "execution_count": 28,
   "id": "bd8f1650-eec2-4b6f-b013-7cf078a84277",
   "metadata": {},
   "outputs": [
    {
     "name": "stdout",
     "output_type": "stream",
     "text": [
      "Students marks series:\n",
      "Smriti      85\n",
      "Shashank    67\n",
      "Hemant      90\n",
      "Avinash     89\n",
      "Shivam      75\n",
      "dtype: int64\n"
     ]
    }
   ],
   "source": [
    "marks=pd.Series([85,67,90,89,75], index=['Smriti','Shashank','Hemant','Avinash','Shivam'])\n",
    "print(\"Students marks series:\")\n",
    "print(marks)"
   ]
  },
  {
   "cell_type": "code",
   "execution_count": 29,
   "id": "e6ff9a22-9817-4cf7-b110-3c9812098e92",
   "metadata": {},
   "outputs": [
    {
     "name": "stdout",
     "output_type": "stream",
     "text": [
      "Smriti     85\n",
      "Hemant     90\n",
      "Avinash    89\n",
      "dtype: int64\n"
     ]
    }
   ],
   "source": [
    "average_marks=marks.mean()\n",
    "above_avg_students=marks[marks>average_marks]\n",
    "print(above_avg_students)"
   ]
  },
  {
   "cell_type": "code",
   "execution_count": 30,
   "id": "86d49bb5-50a4-4542-9fca-b0f3e3a95c90",
   "metadata": {},
   "outputs": [
    {
     "name": "stdout",
     "output_type": "stream",
     "text": [
      "Smriti      85\n",
      "Shashank    72\n",
      "Hemant      90\n",
      "Avinash     89\n",
      "Shivam      80\n",
      "dtype: int64\n"
     ]
    }
   ],
   "source": [
    "marks_adjusted=marks.where(marks>=80, marks+5)\n",
    "print(marks_adjusted)"
   ]
  },
  {
   "cell_type": "code",
   "execution_count": 31,
   "id": "ab860c97-2f11-4472-98c3-9f1732ccbcae",
   "metadata": {},
   "outputs": [
    {
     "name": "stdout",
     "output_type": "stream",
     "text": [
      "Smriti      Pass\n",
      "Shashank    Fail\n",
      "Hemant      Pass\n",
      "Avinash     Pass\n",
      "Shivam      Pass\n",
      "dtype: object\n"
     ]
    }
   ],
   "source": [
    "result_status=pd.Series(['Pass' if m>=75 else 'Fail' for m in marks], index=marks.index)\n",
    "print(result_status)"
   ]
  },
  {
   "cell_type": "code",
   "execution_count": 32,
   "id": "9f7403ed-cf7a-4a7d-921a-d4159c9f37a4",
   "metadata": {},
   "outputs": [
    {
     "name": "stdout",
     "output_type": "stream",
     "text": [
      "Empty DataFrame\n",
      "Columns: []\n",
      "Index: []\n"
     ]
    }
   ],
   "source": [
    "df1=pd.DataFrame()\n",
    "print(df1)"
   ]
  },
  {
   "cell_type": "code",
   "execution_count": 33,
   "id": "02ad1440-0a40-47b3-bbec-0a3035c29ec7",
   "metadata": {},
   "outputs": [
    {
     "name": "stdout",
     "output_type": "stream",
     "text": [
      "          1        2\n",
      "Q1   5000.0      NaN\n",
      "Q2   8000.0      NaN\n",
      "Q3  12000.0      NaN\n",
      "Q4  18000.0      NaN\n",
      "A       NaN  13000.0\n",
      "B       NaN  14000.0\n",
      "C       NaN  12000.0\n"
     ]
    }
   ],
   "source": [
    "year1 = {'Q1':5000,'Q2':8000,'Q3':12000,'Q4':18000}\n",
    "year2 = {'A':13000,'B':14000,'C':12000}\n",
    "totalSales = {1:year1, 2:year2}\n",
    "df2 = pd.DataFrame(totalSales)\n",
    "print(df2)"
   ]
  },
  {
   "cell_type": "code",
   "execution_count": 34,
   "id": "a8ab88cd-19a9-4116-bede-c568a9932fea",
   "metadata": {},
   "outputs": [
    {
     "name": "stdout",
     "output_type": "stream",
     "text": [
      "    0\n",
      "0  10\n",
      "1  20\n",
      "2  30\n",
      "3  40\n",
      "4  50\n"
     ]
    }
   ],
   "source": [
    "list1=[10,20,30,40,50]\n",
    "df1=pd.DataFrame(list1)\n",
    "print(df1)"
   ]
  },
  {
   "cell_type": "code",
   "execution_count": 35,
   "id": "1ae45659-cf8e-4c2a-8df7-84173098233b",
   "metadata": {},
   "outputs": [
    {
     "name": "stdout",
     "output_type": "stream",
     "text": [
      "          Name  Age\n",
      "Stud1   Hemant   22\n",
      "Stud2   Smriti   20\n",
      "Stud3  Avinash   18\n"
     ]
    }
   ],
   "source": [
    "data1=[['Hemant',22],['Smriti',20],['Avinash',18]]\n",
    "idx=['Stud1','Stud2','Stud3']\n",
    "df1=pd.DataFrame(data1,index=idx,columns=['Name','Age'])\n",
    "print(df1)"
   ]
  },
  {
   "cell_type": "code",
   "execution_count": 36,
   "id": "98bbc0fd-b588-4fd8-af31-1bb45fd46358",
   "metadata": {},
   "outputs": [
    {
     "name": "stdout",
     "output_type": "stream",
     "text": [
      "   RollNo      Name  Marks\n",
      "0    1101    Hemant     90\n",
      "1    1102    Smriti     85\n",
      "2    1103   Avinash     80\n",
      "3    1104  Shashank     79\n"
     ]
    }
   ],
   "source": [
    "data=[[1101,'Hemant',90],[1102,'Smriti',85],[1103,'Avinash',80],[1104,'Shashank',79]]\n",
    "df=pd.DataFrame(data,columns=['RollNo','Name','Marks'])\n",
    "print(df)"
   ]
  },
  {
   "cell_type": "code",
   "execution_count": 37,
   "id": "35271eb5-04bc-468d-aab2-55d529ebd6a9",
   "metadata": {},
   "outputs": [
    {
     "name": "stdout",
     "output_type": "stream",
     "text": [
      "   0\n",
      "0  1\n",
      "1  2\n",
      "2  3\n",
      "3  4\n",
      "4  5\n"
     ]
    }
   ],
   "source": [
    "series=pd.Series([1,2,3,4,5])\n",
    "df1=pd.DataFrame(series)\n",
    "print(df1)"
   ]
  },
  {
   "cell_type": "code",
   "execution_count": 38,
   "id": "62e92c77-9a6f-4de8-9156-17047bacc353",
   "metadata": {},
   "outputs": [
    {
     "name": "stdout",
     "output_type": "stream",
     "text": [
      "          Marks  Age\n",
      "Hemant       90   21\n",
      "Smriti       85   20\n",
      "Avinash      80   22\n",
      "Shashank     79   20\n"
     ]
    }
   ],
   "source": [
    "student_marks=pd.Series({'Hemant':90,'Smriti':85,'Avinash':80,'Shashank':79})\n",
    "student_age=pd.Series({'Hemant':21,'Smriti':20,'Avinash':22,'Shashank':20})\n",
    "student_df=pd.DataFrame({'Marks': student_marks, 'Age': student_age})\n",
    "print(student_df)"
   ]
  },
  {
   "cell_type": "code",
   "execution_count": 39,
   "id": "8ceb9553-8e50-4bc7-ac29-b2b935d911b8",
   "metadata": {},
   "outputs": [
    {
     "name": "stdout",
     "output_type": "stream",
     "text": [
      "      Name  English  Maths  Hindi\n",
      "0   Hemant       90     95     99\n",
      "1   Smriti       89     80     90\n",
      "2  Avinash       80     85     85\n"
     ]
    }
   ],
   "source": [
    "student={'Name':['Hemant','Smriti','Avinash'],'English':[90,89,80],'Maths':[95,80,85],'Hindi':[99,90,85]}\n",
    "df=pd.DataFrame(student)\n",
    "print(df)"
   ]
  },
  {
   "cell_type": "code",
   "execution_count": 41,
   "id": "eaab4a46-9ea3-494a-add7-c86de388f340",
   "metadata": {},
   "outputs": [
    {
     "name": "stdout",
     "output_type": "stream",
     "text": [
      "       Name  English  Maths  Hindi\n",
      "0    Hemant       89     95     99\n",
      "1    Smriti       85     89     90\n",
      "2   Avinash       80     90     95\n",
      "3  Shashank       82     85     80\n"
     ]
    }
   ],
   "source": [
    "n=pd.Series(['Hemant','Smriti','Avinash','Shashank'])\n",
    "Eng=pd.Series([89,85,80,82])\n",
    "Mth=pd.Series([95,89,90,85])\n",
    "Hin=pd.Series([99,90,95,80])\n",
    "Stud_Result={\"Name\":n, \"English\":Eng, \"Maths\":Mth, \"Hindi\":Hin}\n",
    "df=pd.DataFrame(Stud_Result)\n",
    "print(df)"
   ]
  },
  {
   "cell_type": "code",
   "execution_count": 42,
   "id": "27c57edc-f928-40de-aaeb-23ce8d04f376",
   "metadata": {},
   "outputs": [
    {
     "name": "stdout",
     "output_type": "stream",
     "text": [
      "       Name  Age Department\n",
      "0    Smriti   20         HR\n",
      "1    Hemant   21         IT\n",
      "2   Avinash   22    Finance\n",
      "3  Shashank   20    Payroll\n"
     ]
    }
   ],
   "source": [
    "data=[{'Name':'Smriti', 'Age':20, 'Department':'HR'},\n",
    "      {'Name':'Hemant', 'Age':21, 'Department':'IT'},\n",
    "      {'Name':'Avinash', 'Age':22, 'Department':'Finance'},\n",
    "      {'Name':'Shashank', 'Age':20, 'Department':'Payroll'}]\n",
    "df=pd.DataFrame(data)\n",
    "print(df)"
   ]
  },
  {
   "cell_type": "code",
   "execution_count": 43,
   "id": "4f1fe074-8ef0-4c17-a508-356392812fdc",
   "metadata": {},
   "outputs": [
    {
     "name": "stdout",
     "output_type": "stream",
     "text": [
      "0     7\n",
      "1    57\n",
      "2    92\n",
      "3    70\n",
      "4    59\n",
      "dtype: int32\n"
     ]
    }
   ],
   "source": [
    "arr=np.random.randint(1,100,5)\n",
    "random_series=pd.Series(arr)\n",
    "print(random_series)"
   ]
  },
  {
   "cell_type": "code",
   "execution_count": 44,
   "id": "e5b99434-112f-4efb-bbc7-a99d3175c1f7",
   "metadata": {},
   "outputs": [
    {
     "name": "stdout",
     "output_type": "stream",
     "text": [
      "       Name  Age Department\n",
      "0    Hemant   21         HR\n",
      "1    Smriti   20         IT\n",
      "2   Avinash   22    Finance\n",
      "3  Shashank   20    Payroll\n",
      "Shape: (4, 3)\n",
      "Size: 12\n",
      "Columns: Index(['Name', 'Age', 'Department'], dtype='object')\n",
      "Index: RangeIndex(start=0, stop=4, step=1)\n",
      "Data Types:\n",
      " Name          object\n",
      "Age            int64\n",
      "Department    object\n",
      "dtype: object\n",
      "Values:\n",
      " [['Hemant' 21 'HR']\n",
      " ['Smriti' 20 'IT']\n",
      " ['Avinash' 22 'Finance']\n",
      " ['Shashank' 20 'Payroll']]\n",
      "Number of Dimensions: 2\n",
      "Is DataFrame empty?: False\n",
      "Transpose:\n",
      "                  0       1        2         3\n",
      "Name        Hemant  Smriti  Avinash  Shashank\n",
      "Age             21      20       22        20\n",
      "Department      HR      IT  Finance   Payroll\n"
     ]
    }
   ],
   "source": [
    "data={\n",
    "     'Name':['Hemant','Smriti','Avinash','Shashank'],\n",
    "     'Age':[21,20,22,20],\n",
    "     'Department':['HR','IT','Finance','Payroll']\n",
    " }\n",
    "df=pd.DataFrame(data)\n",
    "print(df)\n",
    "print('Shape:',df.shape)\n",
    "print('Size:',df.size)\n",
    "print('Columns:',df.columns)\n",
    "print('Index:',df.index)\n",
    "print('Data Types:\\n',df.dtypes)\n",
    "print('Values:\\n',df.values)\n",
    "print('Number of Dimensions:',df.ndim)\n",
    "print('Is DataFrame empty?:',df.empty)\n",
    "print('Transpose:\\n',df.T)"
   ]
  },
  {
   "cell_type": "code",
   "execution_count": 45,
   "id": "2f471df5-e0bd-4f64-9f06-fee326b5b687",
   "metadata": {},
   "outputs": [
    {
     "name": "stdout",
     "output_type": "stream",
     "text": [
      "   EmpId   EmpName Designation  Salary  Bonus\n",
      "0    101    Hemant     Manager   50000   5000\n",
      "1    102    Smriti   Developer   40000   4000\n",
      "2    103   Avinash     Analyst   35000   3000\n",
      "3    104  Shashank          HR   30000   2000\n",
      "    EmpName Designation\n",
      "0    Hemant     Manager\n",
      "1    Smriti   Developer\n",
      "2   Avinash     Analyst\n",
      "3  Shashank          HR\n"
     ]
    }
   ],
   "source": [
    "data={\n",
    "     'EmpId':[101,102,103,104],\n",
    "     'EmpName':['Hemant','Smriti','Avinash','Shashank'],\n",
    "     'Designation':['Manager','Developer','Analyst','HR'],\n",
    "     'Salary':[50000,40000,35000,30000],\n",
    "     'Bonus':[5000,4000,3000,2000]\n",
    " }\n",
    "Employee=pd.DataFrame(data)\n",
    "print(Employee)\n",
    "print(Employee[['EmpName','Designation']])"
   ]
  },
  {
   "cell_type": "code",
   "execution_count": 46,
   "id": "7b4dc712-52d3-4053-8c6b-d34e0c181978",
   "metadata": {},
   "outputs": [
    {
     "name": "stdout",
     "output_type": "stream",
     "text": [
      "   EmpId   EmpName Designation  Salary  Bonus\n",
      "0    101    Hemant     Manager   50000   5000\n",
      "1    102    Smriti   Developer   40000   4000\n",
      "2    103   Avinash     Analyst   35000   3000\n",
      "3    104  Shashank          HR   30000   2000\n",
      "4    105    Devika      Tester   50000   5000\n"
     ]
    }
   ],
   "source": [
    "Employee.loc[len(Employee)]=[105,'Devika','Tester',50000,5000]\n",
    "print(Employee)"
   ]
  },
  {
   "cell_type": "code",
   "execution_count": 50,
   "id": "cd8310f1-5d73-436f-a447-d7943e82a1a0",
   "metadata": {},
   "outputs": [
    {
     "name": "stdout",
     "output_type": "stream",
     "text": [
      "   EmpId   EmpName Designation Salary Bonus\n",
      "0    101    Hemant     Manager  50000  5000\n",
      "1    102    Smriti   Developer      0     0\n",
      "2    103   Avinash     Analyst  35000  3000\n",
      "3    104  Shashank          HR  30000  2000\n",
      "4    105    Devika      Tester  50000  5000\n"
     ]
    }
   ],
   "source": [
    "Employee.loc[Employee['EmpName']=='Smriti',['Salary','Bonus']]=[0,0]\n",
    "print(Employee)"
   ]
  },
  {
   "cell_type": "code",
   "execution_count": 51,
   "id": "b61c9f63-9fd0-4f8c-8f82-5d2d947c4f4f",
   "metadata": {},
   "outputs": [
    {
     "name": "stdout",
     "output_type": "stream",
     "text": [
      "   EmpId  EmpName Designation Salary Bonus\n",
      "0    101   Hemant     Manager  50000  5000\n",
      "1    102   Smriti   Developer      0     0\n",
      "2    103  Avinash     Analyst  35000  3000\n",
      "4    105   Devika      Tester  50000  5000\n"
     ]
    }
   ],
   "source": [
    "Employee=Employee[Employee.EmpId !=104]\n",
    "print(Employee)"
   ]
  },
  {
   "cell_type": "code",
   "execution_count": 52,
   "id": "44f32211-12f6-4b43-ade6-5521484baf7e",
   "metadata": {},
   "outputs": [
    {
     "name": "stdout",
     "output_type": "stream",
     "text": [
      "   EmpId  EmpName Designation Salary Bonus\n",
      "0    101   Hemant     Manager  50000  5000\n",
      "4    105   Devika      Tester  50000  5000\n",
      "2    103  Avinash     Analyst  35000  3000\n",
      "1    102   Smriti   Developer      0     0\n"
     ]
    }
   ],
   "source": [
    "sorted_emp=Employee.sort_values(by='Salary',ascending=False)\n",
    "print(sorted_emp)"
   ]
  },
  {
   "cell_type": "code",
   "execution_count": 53,
   "id": "9bf4f104-fcb1-4952-a401-7d7d0cf5b867",
   "metadata": {},
   "outputs": [
    {
     "name": "stdout",
     "output_type": "stream",
     "text": [
      "   EmpId EmpName Designation Salary Bonus\n",
      "0    101  Hemant     Manager  50000  5000\n",
      "4    105  Devika      Tester  50000  5000\n"
     ]
    }
   ],
   "source": [
    "high_salary_emp=Employee[Employee['Salary']>35000]\n",
    "print(high_salary_emp)"
   ]
  },
  {
   "cell_type": "code",
   "execution_count": 54,
   "id": "ae1c7328-5a97-49d5-b869-f2c5b8ffe7dc",
   "metadata": {},
   "outputs": [
    {
     "name": "stdout",
     "output_type": "stream",
     "text": [
      "\n",
      "=== Descriptive Statistics ===\n",
      "        Salary  Bonus\n",
      "count        4      4\n",
      "unique       3      3\n",
      "top      50000   5000\n",
      "freq         2      2\n"
     ]
    }
   ],
   "source": [
    "print(\"\\n=== Descriptive Statistics ===\")\n",
    "print(Employee[['Salary','Bonus']].describe())"
   ]
  },
  {
   "cell_type": "code",
   "execution_count": 55,
   "id": "b56e4d76-265f-49cf-b837-a09fdb0739c6",
   "metadata": {},
   "outputs": [
    {
     "name": "stdout",
     "output_type": "stream",
     "text": [
      "EmpId              103\n",
      "EmpName        Avinash\n",
      "Designation    Analyst\n",
      "Salary           35000\n",
      "Bonus             3000\n",
      "Name: 2, dtype: object\n"
     ]
    }
   ],
   "source": [
    "print(Employee.iloc[2])"
   ]
  },
  {
   "cell_type": "code",
   "execution_count": null,
   "id": "23167bc3-692d-4fd6-b300-e99260548e93",
   "metadata": {},
   "outputs": [],
   "source": []
  }
 ],
 "metadata": {
  "kernelspec": {
   "display_name": "Python 3 (ipykernel)",
   "language": "python",
   "name": "python3"
  },
  "language_info": {
   "codemirror_mode": {
    "name": "ipython",
    "version": 3
   },
   "file_extension": ".py",
   "mimetype": "text/x-python",
   "name": "python",
   "nbconvert_exporter": "python",
   "pygments_lexer": "ipython3",
   "version": "3.13.5"
  }
 },
 "nbformat": 4,
 "nbformat_minor": 5
}
